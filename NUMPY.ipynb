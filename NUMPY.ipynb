{
 "cells": [
  {
   "cell_type": "code",
   "execution_count": 6,
   "metadata": {},
   "outputs": [
    {
     "name": "stdout",
     "output_type": "stream",
     "text": [
      "int32\n",
      "(3, 3)\n",
      "98\n",
      "[90 80 75]\n",
      "[92 80 75]\n",
      "[[92 98 97]\n",
      " [80 81 92]\n",
      " [75 74 72]]\n"
     ]
    }
   ],
   "source": [
    "import numpy as np\n",
    "marks=np.array([[90,98,97],[80,81,92],[75,74,72]],np.int32)\n",
    "#print the datatype of elements\n",
    "print(marks.dtype)\n",
    "#print the shape\n",
    "print(marks.shape)\n",
    "#print the mark in first row second column\n",
    "print(marks[0,1])\n",
    "#print the 1st column\n",
    "print(marks[:,0])\n",
    "#copy the 1st column to quarterly\n",
    "quarterly=marks[:,0]\n",
    "#change the mark in the 1st row 1st column in quarterly and it will also affects marks\n",
    "quarterly[0]=92\n",
    "print(quarterly)\n",
    "print(marks)"
   ]
  },
  {
   "cell_type": "code",
   "execution_count": 13,
   "metadata": {},
   "outputs": [
    {
     "name": "stdout",
     "output_type": "stream",
     "text": [
      "2\n",
      "3\n",
      "[[0. 0. 0.]\n",
      " [0. 0. 0.]]\n",
      "[[92 80 75]\n",
      " [98 81 74]\n",
      " [97 92 72]]\n",
      "[1. 2.]\n",
      "[0. 1.]\n"
     ]
    }
   ],
   "source": [
    "#ndim gives the dimension of array\n",
    "print(marks.ndim)\n",
    "#zeros()fills the element with zero\n",
    "print(np.zeros((2,3,4)).ndim)\n",
    "print(np.zeros((2,3)))\n",
    "#T gives the transposed array\n",
    "print(marks.T)\n",
    "#reaal & imaginary gives real&imaginary value\n",
    "x=np.array([1+0j,2+1j])\n",
    "print(x.real)\n",
    "print(x.imag)"
   ]
  },
  {
   "cell_type": "code",
   "execution_count": 11,
   "metadata": {
    "scrolled": false
   },
   "outputs": [
    {
     "name": "stdout",
     "output_type": "stream",
     "text": [
      "[1 2 3 4 5 6]\n",
      "[[1 2 3]\n",
      " [4 5 6]]\n",
      "4\n",
      "[[1 4]\n",
      " [2 5]\n",
      " [3 6]]\n",
      "3\n",
      "[[3 3 3]\n",
      " [3 3 3]]\n",
      "[[3 3 1]\n",
      " [3 1 3]]\n"
     ]
    }
   ],
   "source": [
    "import numpy as np\n",
    "#flat is an 1D iterator\n",
    "a=np.arange(1,7)\n",
    "print(a)\n",
    "a=a.reshape(2,3)\n",
    "print(a)\n",
    "print(a.flat[3])\n",
    "print(a.T)\n",
    "print(a.T.flat[4])\n",
    "a.flat=3\n",
    "print(a)\n",
    "#make the 3nd element and 5th element as 1\n",
    "a.flat[[2,4]]=1\n",
    "print(a)"
   ]
  },
  {
   "cell_type": "code",
   "execution_count": 7,
   "metadata": {},
   "outputs": [
    {
     "name": "stdout",
     "output_type": "stream",
     "text": [
      "[[ True  True  True]\n",
      " [False False False]]\n",
      "True\n",
      "-1\n",
      "1\n",
      "[[-99 -98 -96]\n",
      " [-79 -76 -75]]\n",
      "[[100  99  97]\n",
      " [ 80  77  76]]\n",
      "[[49.  48.5 47.5]\n",
      " [39.  37.5 37. ]]\n",
      "[[49 48 47]\n",
      " [39 37 37]]\n",
      "[[0 1 1]\n",
      " [0 1 0]]\n",
      "[[941192 912673 857375]\n",
      " [474552 421875 405224]]\n",
      "[[ 8 17]\n",
      " [18 47]]\n",
      "[[2 3 4]\n",
      " [5 1 2]]\n",
      "[[2 3 4]\n",
      " [5 1 2]]\n",
      "2\n",
      "5\n"
     ]
    }
   ],
   "source": [
    "import numpy as np\n",
    "mark=np.array([[98,97,95],[78,75,74]])\n",
    "mark1=np.array([[90,92,91],[68,35,73]])\n",
    "print(mark.__ge__(90))\n",
    "b=1\n",
    "c=-1\n",
    "print(b.__bool__())\n",
    "print(b.__neg__())\n",
    "print(c.__abs__())\n",
    "print(mark.__invert__())\n",
    "print(mark.__add__(2))\n",
    "print(mark.__truediv__(2))\n",
    "print(mark.__floordiv__(2))\n",
    "print(mark.__mod__(2))\n",
    "print(mark.__pow__(3))\n",
    "# p=[[1,2,3], [2,3,4]]\n",
    "# q=[[1,2,3], [2,3,4]]\n",
    "# print(np.dot(p, q))\n",
    "p= [[1, 2], [4, 1]]  \n",
    "q = [[4, 11], [2, 3]]  \n",
    "r=np.dot(p, q)  \n",
    "print(r)\n",
    "arr=np.array([[2,3,4],[5,1,2]])\n",
    "s=arr.__copy__()\n",
    "print(s)\n",
    "s[0][1]=10\n",
    "print(arr)\n",
    "print(s.item(0))\n",
    "print(s.item(1,0))\n"
   ]
  },
  {
   "cell_type": "code",
   "execution_count": 33,
   "metadata": {},
   "outputs": [
    {
     "name": "stdout",
     "output_type": "stream",
     "text": [
      "[4 5 6 5 7]\n",
      "27\n",
      "[[2 4 5 6]\n",
      " [1 3 5 7]]\n",
      "False\n",
      "[False False  True  True]\n",
      "[False False]\n",
      "[[5 6]\n",
      " [5 7]]\n",
      "[]\n",
      "[[2 4 5 6]]\n",
      "[[2 4 5 6]\n",
      " [1 3 5 7]]\n",
      "[[2 4 5 6]]\n",
      "[[1 3 5 7]]\n",
      "[[4 5 6]\n",
      " [3 5 7]]\n",
      "(array([0, 1]), array([3, 3]))\n",
      "[6]\n"
     ]
    }
   ],
   "source": [
    "a1=np.array([[2,4,5,6],[1,3,5,7]])\n",
    "print(a1[a1>3])\n",
    "print(a1[a1>3].sum())\n",
    "print(a1)\n",
    "print(np.all(a1>3))\n",
    "print(np.all(a1>3,axis=0))\n",
    "print(np.all(a1>3,axis=1))\n",
    "print(a1[:,np.all(a1>3,axis=0)])\n",
    "print(a1[np.all(a1>3,axis=1),:])\n",
    "print(a1[np.all(a1 < 7, axis=1), :])\n",
    "print(a1[np.any(a1>4,axis=1)])\n",
    "#print(a[np.any(a < 5, axis=1)])\n",
    "print(a1[~np.any(a1>6,axis=1)])\n",
    "#print(a[~np.any(a < 5, axis=1)])\n",
    "print(np.delete(a1,0,axis=0))\n",
    "print(np.delete(a1,0,axis=1))\n",
    "print(np.where(a1>5))\n",
    "print(a1[(a1>4)&(a1%2==0)])"
   ]
  },
  {
   "cell_type": "code",
   "execution_count": null,
   "metadata": {},
   "outputs": [],
   "source": []
  },
  {
   "cell_type": "code",
   "execution_count": null,
   "metadata": {},
   "outputs": [],
   "source": []
  }
 ],
 "metadata": {
  "kernelspec": {
   "display_name": "Python 3",
   "language": "python",
   "name": "python3"
  },
  "language_info": {
   "codemirror_mode": {
    "name": "ipython",
    "version": 3
   },
   "file_extension": ".py",
   "mimetype": "text/x-python",
   "name": "python",
   "nbconvert_exporter": "python",
   "pygments_lexer": "ipython3",
   "version": "3.6.8"
  }
 },
 "nbformat": 4,
 "nbformat_minor": 2
}
