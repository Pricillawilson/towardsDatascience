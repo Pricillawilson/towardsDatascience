{
 "cells": [
  {
   "cell_type": "code",
   "execution_count": 3,
   "metadata": {},
   "outputs": [
    {
     "name": "stdout",
     "output_type": "stream",
     "text": [
      "Pricilla\n",
      "Baby\n"
     ]
    }
   ],
   "source": [
    "#without __init__\n",
    "class Student:\n",
    "    pass\n",
    "s1=Student()\n",
    "s2=Student()\n",
    "s1.fname=\"Pricilla\"\n",
    "s1.lname=\"Wilson\"\n",
    "s1.id=16\n",
    "s2.fname=\"Baby\"\n",
    "s2.lname=\"Saroja\"\n",
    "s2.id=18\n",
    "print(s1.fname)\n",
    "print(s2.fname)"
   ]
  },
  {
   "cell_type": "code",
   "execution_count": 7,
   "metadata": {},
   "outputs": [
    {
     "name": "stdout",
     "output_type": "stream",
     "text": [
      "Pricilla\n",
      "Jaya\n",
      "Pricilla W\n"
     ]
    }
   ],
   "source": [
    "#with init\n",
    "class Student:\n",
    "    #self takes the instance\n",
    "    def __init__(self,fname,lname,id):\n",
    "        self.fname=fname\n",
    "        self.lname=lname\n",
    "        self.id=id;\n",
    "s1=Student(\"Pricilla\",\"W\",16)\n",
    "s2=Student(\"Jaya\",\"J\",7)\n",
    "print(s1.fname)\n",
    "print(s2.fname)\n",
    "print('{} {}'.format(s1.fname,s1.lname))"
   ]
  },
  {
   "cell_type": "code",
   "execution_count": 11,
   "metadata": {},
   "outputs": [
    {
     "name": "stdout",
     "output_type": "stream",
     "text": [
      "Jaya J\n",
      "Jaya J\n"
     ]
    }
   ],
   "source": [
    "class Student:\n",
    "    def __init__(self,fname,lname,id):\n",
    "        self.fname=fname\n",
    "        self.lname=lname\n",
    "        self.id=id;\n",
    "        #here the the instance is enough to print name\n",
    "    def fullname(self):\n",
    "        #here self is used because it can take any instance\n",
    "        return '{} {}'.format(self.fname,self.lname)\n",
    "s1=Student(\"Pricilla\",\"W\",16)\n",
    "s2=Student(\"Jaya\",\"J\",7)\n",
    "print(s2.fullname())\n",
    "print(Student.fullname(s2))"
   ]
  },
  {
   "cell_type": "code",
   "execution_count": 12,
   "metadata": {},
   "outputs": [
    {
     "name": "stdout",
     "output_type": "stream",
     "text": [
      "5000\n",
      "7000.0\n"
     ]
    }
   ],
   "source": [
    "# without class variables\n",
    "class Student:\n",
    "    def __init__(self,fname,lname,id,fees):\n",
    "        self.fname=fname\n",
    "        self.lname=lname\n",
    "        self.id=id;\n",
    "        self.fees=fees\n",
    "        #here the the instance is enough to print name\n",
    "    def fullname(self):\n",
    "        #here self is used because it can take any instance\n",
    "        return '{} {}'.format(self.fname,self.lname)\n",
    "    def raisefees(self):\n",
    "        self.fees=self.fees*1.4\n",
    "s1=Student(\"Pricilla\",\"W\",16,5000)\n",
    "s2=Student(\"Baby\",\"K\",18,3000)\n",
    "print(s1.fees)\n",
    "s1.raisefees()\n",
    "print(s1.fees)"
   ]
  },
  {
   "cell_type": "code",
   "execution_count": 24,
   "metadata": {},
   "outputs": [
    {
     "name": "stdout",
     "output_type": "stream",
     "text": [
      "1.4\n",
      "{'__module__': '__main__', 'raise_per': 1.4, 'students_count': 2, '__init__': <function Student.__init__ at 0x7f617969c378>, 'fullname': <function Student.fullname at 0x7f617969c400>, 'raisefees': <function Student.raisefees at 0x7f617969c510>, '__dict__': <attribute '__dict__' of 'Student' objects>, '__weakref__': <attribute '__weakref__' of 'Student' objects>, '__doc__': None}\n",
      "{'fname': 'Pricilla', 'lname': 'W', 'id': 16, 'fees': 5000}\n",
      "1.4\n",
      "1.4\n",
      "1.5\n",
      "1.5\n",
      "1.5\n",
      "{'fname': 'Pricilla', 'lname': 'W', 'id': 16, 'fees': 5000, 'raise_per': 1.6}\n",
      "1.5\n",
      "1.6\n",
      "1.5\n",
      "2\n"
     ]
    }
   ],
   "source": [
    "#Incase the raise percentage will change every year we can't locate and change everywhere we used it So we create class variable\n",
    "class Student:\n",
    "    raise_per=1.4\n",
    "    students_count=0\n",
    "    def __init__(self,fname,lname,id,fees):\n",
    "        self.fname=fname\n",
    "        self.lname=lname\n",
    "        self.id=id;\n",
    "        self.fees=fees\n",
    "        #to find how many student intances are created\n",
    "        Student.students_count+=1\n",
    "        #here the the instance is enough to print name\n",
    "    def fullname(self):\n",
    "        #here self is used because it can take any instance\n",
    "        return '{} {}'.format(self.fname,self.lname)\n",
    "    def raisefees(self):\n",
    "        #since it is a class variable we have to access it using class name or self(instance of class) \n",
    "        self.fees=self.fees*self.raise_per\n",
    "s1=Student(\"Pricilla\",\"W\",16,5000)\n",
    "s2=Student(\"Baby\",\"K\",18,3000)\n",
    "print(Student.raise_per)\n",
    "#it will give the same answer eventhough the raise_per is not an instance variable \n",
    "#because it would check initially it has any attribute in that name  if there is not check any class variable are there\n",
    "print(Student.__dict__)\n",
    "print(s1.__dict__)\n",
    "print(s1.raise_per)\n",
    "print(s2.raise_per)\n",
    "\n",
    "Student.raise_per=1.5\n",
    "print(Student.raise_per)\n",
    "print(s1.raise_per)\n",
    "print(s2.raise_per)\n",
    "\n",
    "s1.raise_per=1.6\n",
    "print(s1.__dict__)\n",
    "print(Student.raise_per)\n",
    "print(s1.raise_per)\n",
    "print(s2.raise_per)\n",
    "print(Student.students_count)"
   ]
  },
  {
   "cell_type": "code",
   "execution_count": 3,
   "metadata": {},
   "outputs": [
    {
     "name": "stdout",
     "output_type": "stream",
     "text": [
      "1.4\n",
      "1.5\n",
      "1.5\n"
     ]
    }
   ],
   "source": [
    "class Student:\n",
    "    raise_per=1.4\n",
    "    students_count=0\n",
    "    def __init__(self,fname,lname,id,fees):\n",
    "        self.fname=fname\n",
    "        self.lname=lname\n",
    "        self.id=id;\n",
    "        self.fees=fees\n",
    "        #to find how many student intances are created\n",
    "        Student.students_count+=1\n",
    "        #here the the instance is enough to print name\n",
    "    def fullname(self):\n",
    "        #here self is used because it can take any instance\n",
    "        return '{} {}'.format(self.fname,self.lname)\n",
    "    def raisefees(self):\n",
    "        #since it is a class variable we have to access it using class name or self(instance of class) \n",
    "        self.fees=self.fees*self.raise_per\n",
    "    @classmethod\n",
    "    #it takes class (cls) as 1st argument\n",
    "    def setfees(cls,percent):\n",
    "        cls.raise_per=percent\n",
    "        \n",
    "s1=Student(\"Pricilla\",\"W\",16,5000)\n",
    "s2=Student(\"Baby\",\"K\",18,3000)\n",
    "print(Student.raise_per)\n",
    "Student.setfees(1.5)\n",
    "print(Student.raise_per)\n",
    "print(s1.raise_per)"
   ]
  },
  {
   "cell_type": "code",
   "execution_count": 6,
   "metadata": {},
   "outputs": [
    {
     "name": "stdout",
     "output_type": "stream",
     "text": [
      "jaya j\n",
      "jaya\n"
     ]
    }
   ],
   "source": [
    "class Student:\n",
    "    raise_per=1.4\n",
    "    students_count=0\n",
    "    def __init__(self,fname,lname,id,fees):\n",
    "        self.fname=fname\n",
    "        self.lname=lname\n",
    "        self.id=id;\n",
    "        self.fees=fees\n",
    "        #to find how many student intances are created\n",
    "        Student.students_count+=1\n",
    "        #here the the instance is enough to print name\n",
    "    def fullname(self):\n",
    "        #here self is used because it can take any instance\n",
    "        return '{} {}'.format(self.fname,self.lname)\n",
    "    def raisefees(self):\n",
    "        #since it is a class variable we have to access it using class name or self(instance of class) \n",
    "        self.fees=self.fees*self.raise_per\n",
    "    @classmethod\n",
    "    #it takes class (cls) as 1st argument\n",
    "    def setfees(cls,percent):\n",
    "        cls.raise_per=percent\n",
    "        \n",
    "s1=Student(\"Pricilla\",\"W\",16,5000)\n",
    "s2=Student(\"Baby\",\"K\",18,3000)\n",
    "Student_string=\"jaya-j-7-2000\"\n",
    "fname,lname,id,fees=Student_string.split('-')\n",
    "new_student=Student(fname,lname,id,fees)\n",
    "print(new_student.fullname())\n",
    "print(new_student.fname)"
   ]
  },
  {
   "cell_type": "code",
   "execution_count": 8,
   "metadata": {},
   "outputs": [
    {
     "name": "stdout",
     "output_type": "stream",
     "text": [
      "jayabha\n"
     ]
    }
   ],
   "source": [
    "class Student:\n",
    "    raise_per=1.4\n",
    "    students_count=0\n",
    "    def __init__(self,fname,lname,id,fees):\n",
    "        self.fname=fname\n",
    "        self.lname=lname\n",
    "        self.id=id;\n",
    "        self.fees=fees\n",
    "        #to find how many student intances are created\n",
    "        Student.students_count+=1\n",
    "        #here the the instance is enough to print name\n",
    "    def fullname(self):\n",
    "        #here self is used because it can take any instance\n",
    "        return '{} {}'.format(self.fname,self.lname)\n",
    "    def raisefees(self):\n",
    "        #since it is a class variable we have to access it using class name or self(instance of class) \n",
    "        self.fees=self.fees*self.raise_per\n",
    "    @classmethod\n",
    "    #it takes class (cls) as 1st argument\n",
    "    def setfees(cls,percent):\n",
    "        cls.raise_per=percent\n",
    "    @classmethod\n",
    "    def from_string(cls,student_string):\n",
    "        fname,lname,id,fees=student_string.split('-')\n",
    "        return cls(fname,lname,id,fees)\n",
    "    \n",
    "        \n",
    "s1=Student(\"Pricilla\",\"W\",16,5000)\n",
    "s2=Student(\"Baby\",\"K\",18,3000)\n",
    "new_student=Student.from_string('jayabha-j-7-2000')\n",
    "print(new_student.fname)"
   ]
  },
  {
   "cell_type": "code",
   "execution_count": 10,
   "metadata": {},
   "outputs": [
    {
     "name": "stdout",
     "output_type": "stream",
     "text": [
      "True\n"
     ]
    }
   ],
   "source": [
    "class Student:\n",
    "    raise_per=1.4\n",
    "    students_count=0\n",
    "    def __init__(self,fname,lname,id,fees):\n",
    "        self.fname=fname\n",
    "        self.lname=lname\n",
    "        self.id=id;\n",
    "        self.fees=fees\n",
    "        #to find how many student intances are created\n",
    "        Student.students_count+=1\n",
    "        #here the the instance is enough to print name\n",
    "    def fullname(self):\n",
    "        #here self is used because it can take any instance\n",
    "        return '{} {}'.format(self.fname,self.lname)\n",
    "    def raisefees(self):\n",
    "        #since it is a class variable we have to access it using class name or self(instance of class) \n",
    "        self.fees=self.fees*self.raise_per\n",
    "    @classmethod\n",
    "    #it takes class (cls) as 1st argument\n",
    "    def setfees(cls,percent):\n",
    "        cls.raise_per=percent\n",
    "    @classmethod\n",
    "    def from_string(cls,student_string):\n",
    "        fname,lname,id,fees=student_string.split('-')\n",
    "        return cls(fname,lname,id,fees)\n",
    "    @staticmethod\n",
    "    def isworkingday(day):\n",
    "        if day.weekday()==5 or day.weekday()==6:\n",
    "            return False\n",
    "        return True\n",
    "import datetime\n",
    "my_date=datetime.date(2020,6,10)\n",
    "print(Student.isworkingday(my_date))"
   ]
  },
  {
   "cell_type": "code",
   "execution_count": null,
   "metadata": {},
   "outputs": [],
   "source": []
  }
 ],
 "metadata": {
  "kernelspec": {
   "display_name": "Python 3",
   "language": "python",
   "name": "python3"
  },
  "language_info": {
   "codemirror_mode": {
    "name": "ipython",
    "version": 3
   },
   "file_extension": ".py",
   "mimetype": "text/x-python",
   "name": "python",
   "nbconvert_exporter": "python",
   "pygments_lexer": "ipython3",
   "version": "3.6.8"
  }
 },
 "nbformat": 4,
 "nbformat_minor": 2
}
