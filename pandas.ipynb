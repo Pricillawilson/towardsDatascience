{
 "cells": [
  {
   "cell_type": "code",
   "execution_count": 13,
   "metadata": {},
   "outputs": [
    {
     "name": "stdout",
     "output_type": "stream",
     "text": [
      "   RNO     NAME  CLASS\n",
      "0   16    Prici     12\n",
      "1   18     Babz     12\n",
      "2    7  Jayabha     12\n",
      "3    2  Eyamuna     12\n",
      "   RNO     NAME\n",
      "0   16    Prici\n",
      "1   18     Babz\n",
      "2    7  Jayabha\n",
      "3    2  Eyamuna\n",
      "   RNO     NAME  CLASS\n",
      "0   18     Babz     12\n",
      "1    2  Eyamuna     12\n",
      "   RNO   NAME  CLASS\n",
      "0   16  Prici     12\n",
      "1   18   Babz     12\n"
     ]
    }
   ],
   "source": [
    "import pandas as pd\n",
    "from io import StringIO #Read and write strings as file\n",
    "textFile=('RNO,NAME,CLASS\\n'\n",
    "         '16,Prici,12\\n'\n",
    "         '18,Babz,12\\n'\n",
    "          '7,Jayabha,12\\n'\n",
    "         '2,Eyamuna,12')\n",
    "print(pd.read_csv(StringIO(textFile)))\n",
    "print(pd.read_csv(StringIO(textFile),usecols=lambda x:x.upper() in ['RNO','NAME']))\n",
    "\n",
    "print(pd.read_csv(StringIO(textFile), skiprows=lambda x: x % 2 != 0))\n",
    "print(pd.read_csv(StringIO(textFile),nrows=2))"
   ]
  },
  {
   "cell_type": "code",
   "execution_count": null,
   "metadata": {},
   "outputs": [],
   "source": []
  }
 ],
 "metadata": {
  "kernelspec": {
   "display_name": "Python 3",
   "language": "python",
   "name": "python3"
  },
  "language_info": {
   "codemirror_mode": {
    "name": "ipython",
    "version": 3
   },
   "file_extension": ".py",
   "mimetype": "text/x-python",
   "name": "python",
   "nbconvert_exporter": "python",
   "pygments_lexer": "ipython3",
   "version": "3.6.8"
  }
 },
 "nbformat": 4,
 "nbformat_minor": 2
}
